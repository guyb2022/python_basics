{
 "cells": [
  {
   "cell_type": "code",
   "execution_count": 1,
   "id": "f9d9d3d2",
   "metadata": {},
   "outputs": [],
   "source": [
    "import pandas as pd\n",
    "import numpy as np\n",
    "import matplotlib.pyplot as plt\n",
    "import xlwings as xw\n",
    "from xlwings import constants as xl_const\n",
    "from xlwings.constants import LineStyle"
   ]
  },
  {
   "cell_type": "code",
   "execution_count": 2,
   "id": "eed24c25",
   "metadata": {},
   "outputs": [],
   "source": [
    "# read the demo df\n",
    "df = pd.read_excel('PythonCharts.xlsx')"
   ]
  },
  {
   "cell_type": "code",
   "execution_count": 3,
   "id": "fa3ecd16",
   "metadata": {},
   "outputs": [
    {
     "data": {
      "text/html": [
       "<div>\n",
       "<style scoped>\n",
       "    .dataframe tbody tr th:only-of-type {\n",
       "        vertical-align: middle;\n",
       "    }\n",
       "\n",
       "    .dataframe tbody tr th {\n",
       "        vertical-align: top;\n",
       "    }\n",
       "\n",
       "    .dataframe thead th {\n",
       "        text-align: right;\n",
       "    }\n",
       "</style>\n",
       "<table border=\"1\" class=\"dataframe\">\n",
       "  <thead>\n",
       "    <tr style=\"text-align: right;\">\n",
       "      <th></th>\n",
       "      <th>total_bill</th>\n",
       "      <th>tip</th>\n",
       "      <th>sex</th>\n",
       "      <th>smoker</th>\n",
       "      <th>day</th>\n",
       "      <th>time</th>\n",
       "      <th>size</th>\n",
       "    </tr>\n",
       "  </thead>\n",
       "  <tbody>\n",
       "    <tr>\n",
       "      <th>0</th>\n",
       "      <td>16.99</td>\n",
       "      <td>1.01</td>\n",
       "      <td>Female</td>\n",
       "      <td>No</td>\n",
       "      <td>Sun</td>\n",
       "      <td>Dinner</td>\n",
       "      <td>2</td>\n",
       "    </tr>\n",
       "    <tr>\n",
       "      <th>1</th>\n",
       "      <td>10.34</td>\n",
       "      <td>1.66</td>\n",
       "      <td>Male</td>\n",
       "      <td>No</td>\n",
       "      <td>Sun</td>\n",
       "      <td>Dinner</td>\n",
       "      <td>3</td>\n",
       "    </tr>\n",
       "    <tr>\n",
       "      <th>2</th>\n",
       "      <td>21.01</td>\n",
       "      <td>3.50</td>\n",
       "      <td>Male</td>\n",
       "      <td>No</td>\n",
       "      <td>Sun</td>\n",
       "      <td>Dinner</td>\n",
       "      <td>3</td>\n",
       "    </tr>\n",
       "    <tr>\n",
       "      <th>3</th>\n",
       "      <td>23.68</td>\n",
       "      <td>3.31</td>\n",
       "      <td>Male</td>\n",
       "      <td>No</td>\n",
       "      <td>Sun</td>\n",
       "      <td>Dinner</td>\n",
       "      <td>2</td>\n",
       "    </tr>\n",
       "    <tr>\n",
       "      <th>4</th>\n",
       "      <td>24.59</td>\n",
       "      <td>3.61</td>\n",
       "      <td>Female</td>\n",
       "      <td>No</td>\n",
       "      <td>Sun</td>\n",
       "      <td>Dinner</td>\n",
       "      <td>4</td>\n",
       "    </tr>\n",
       "    <tr>\n",
       "      <th>5</th>\n",
       "      <td>25.29</td>\n",
       "      <td>4.71</td>\n",
       "      <td>Male</td>\n",
       "      <td>No</td>\n",
       "      <td>Sun</td>\n",
       "      <td>Dinner</td>\n",
       "      <td>4</td>\n",
       "    </tr>\n",
       "    <tr>\n",
       "      <th>6</th>\n",
       "      <td>8.77</td>\n",
       "      <td>2.00</td>\n",
       "      <td>Male</td>\n",
       "      <td>No</td>\n",
       "      <td>Sun</td>\n",
       "      <td>Dinner</td>\n",
       "      <td>2</td>\n",
       "    </tr>\n",
       "    <tr>\n",
       "      <th>7</th>\n",
       "      <td>26.88</td>\n",
       "      <td>3.12</td>\n",
       "      <td>Male</td>\n",
       "      <td>No</td>\n",
       "      <td>Sun</td>\n",
       "      <td>Dinner</td>\n",
       "      <td>4</td>\n",
       "    </tr>\n",
       "    <tr>\n",
       "      <th>8</th>\n",
       "      <td>15.04</td>\n",
       "      <td>1.96</td>\n",
       "      <td>Male</td>\n",
       "      <td>No</td>\n",
       "      <td>Sun</td>\n",
       "      <td>Dinner</td>\n",
       "      <td>2</td>\n",
       "    </tr>\n",
       "    <tr>\n",
       "      <th>9</th>\n",
       "      <td>14.78</td>\n",
       "      <td>3.23</td>\n",
       "      <td>Male</td>\n",
       "      <td>No</td>\n",
       "      <td>Sun</td>\n",
       "      <td>Dinner</td>\n",
       "      <td>2</td>\n",
       "    </tr>\n",
       "  </tbody>\n",
       "</table>\n",
       "</div>"
      ],
      "text/plain": [
       "   total_bill   tip     sex smoker  day    time  size\n",
       "0       16.99  1.01  Female     No  Sun  Dinner     2\n",
       "1       10.34  1.66    Male     No  Sun  Dinner     3\n",
       "2       21.01  3.50    Male     No  Sun  Dinner     3\n",
       "3       23.68  3.31    Male     No  Sun  Dinner     2\n",
       "4       24.59  3.61  Female     No  Sun  Dinner     4\n",
       "5       25.29  4.71    Male     No  Sun  Dinner     4\n",
       "6        8.77  2.00    Male     No  Sun  Dinner     2\n",
       "7       26.88  3.12    Male     No  Sun  Dinner     4\n",
       "8       15.04  1.96    Male     No  Sun  Dinner     2\n",
       "9       14.78  3.23    Male     No  Sun  Dinner     2"
      ]
     },
     "execution_count": 3,
     "metadata": {},
     "output_type": "execute_result"
    }
   ],
   "source": [
    "df.head(10)"
   ]
  },
  {
   "cell_type": "code",
   "execution_count": 4,
   "id": "6ca29439",
   "metadata": {},
   "outputs": [],
   "source": [
    "def aggregate_df(df):\n",
    "    \"\"\" create the aggregate df pre defined criteria \"\"\"\n",
    "    df = df.groupby(['sex', 'smoker']).agg({\n",
    "        'total_bill': 'mean',\n",
    "        'tip': 'mean',\n",
    "        'size': 'mean'\n",
    "    }).reset_index()\n",
    "    \n",
    "    # Rename the columns\n",
    "    new_columns = {\n",
    "        'total_bill': 'Mean Total Bill',\n",
    "        'tip': 'Mean Tip',\n",
    "        'size': 'Mean Size'\n",
    "    }\n",
    "    df = df.rename(columns=new_columns)\n",
    "    return df"
   ]
  },
  {
   "cell_type": "code",
   "execution_count": 5,
   "id": "4983bbab",
   "metadata": {},
   "outputs": [
    {
     "data": {
      "text/html": [
       "<div>\n",
       "<style scoped>\n",
       "    .dataframe tbody tr th:only-of-type {\n",
       "        vertical-align: middle;\n",
       "    }\n",
       "\n",
       "    .dataframe tbody tr th {\n",
       "        vertical-align: top;\n",
       "    }\n",
       "\n",
       "    .dataframe thead th {\n",
       "        text-align: right;\n",
       "    }\n",
       "</style>\n",
       "<table border=\"1\" class=\"dataframe\">\n",
       "  <thead>\n",
       "    <tr style=\"text-align: right;\">\n",
       "      <th></th>\n",
       "      <th>sex</th>\n",
       "      <th>smoker</th>\n",
       "      <th>Mean Total Bill</th>\n",
       "      <th>Mean Tip</th>\n",
       "      <th>Mean Size</th>\n",
       "    </tr>\n",
       "  </thead>\n",
       "  <tbody>\n",
       "    <tr>\n",
       "      <th>0</th>\n",
       "      <td>Female</td>\n",
       "      <td>No</td>\n",
       "      <td>18.105185</td>\n",
       "      <td>2.773519</td>\n",
       "      <td>2.592593</td>\n",
       "    </tr>\n",
       "    <tr>\n",
       "      <th>1</th>\n",
       "      <td>Female</td>\n",
       "      <td>Yes</td>\n",
       "      <td>17.977879</td>\n",
       "      <td>2.931515</td>\n",
       "      <td>2.242424</td>\n",
       "    </tr>\n",
       "    <tr>\n",
       "      <th>2</th>\n",
       "      <td>Male</td>\n",
       "      <td>No</td>\n",
       "      <td>19.791237</td>\n",
       "      <td>3.113402</td>\n",
       "      <td>2.711340</td>\n",
       "    </tr>\n",
       "    <tr>\n",
       "      <th>3</th>\n",
       "      <td>Male</td>\n",
       "      <td>Yes</td>\n",
       "      <td>22.284500</td>\n",
       "      <td>3.051167</td>\n",
       "      <td>2.500000</td>\n",
       "    </tr>\n",
       "  </tbody>\n",
       "</table>\n",
       "</div>"
      ],
      "text/plain": [
       "      sex smoker  Mean Total Bill  Mean Tip  Mean Size\n",
       "0  Female     No        18.105185  2.773519   2.592593\n",
       "1  Female    Yes        17.977879  2.931515   2.242424\n",
       "2    Male     No        19.791237  3.113402   2.711340\n",
       "3    Male    Yes        22.284500  3.051167   2.500000"
      ]
     },
     "execution_count": 5,
     "metadata": {},
     "output_type": "execute_result"
    }
   ],
   "source": [
    "agg_df = aggregate_df(df)\n",
    "agg_df.head()"
   ]
  },
  {
   "cell_type": "code",
   "execution_count": 6,
   "id": "bfd850a3",
   "metadata": {},
   "outputs": [
    {
     "data": {
      "text/plain": [
       "<AxesSubplot:>"
      ]
     },
     "execution_count": 6,
     "metadata": {},
     "output_type": "execute_result"
    },
    {
     "data": {
      "image/png": "[encoded data removed]",
      "text/plain": [
       "<Figure size 432x288 with 1 Axes>"
      ]
     },
     "metadata": {
      "needs_background": "light"
     },
     "output_type": "display_data"
    }
   ],
   "source": [
    "# Plot the agg_df\n",
    "agg_df.plot(kind='bar')"
   ]
  },
  {
   "cell_type": "code",
   "execution_count": 7,
   "id": "d8367dc8",
   "metadata": {},
   "outputs": [
    {
     "data": {
      "image/png": "[encoded data removed]",
      "text/plain": [
       "<Figure size 432x288 with 1 Axes>"
      ]
     },
     "metadata": {
      "needs_background": "light"
     },
     "output_type": "display_data"
    }
   ],
   "source": [
    "fig, ax = plt.subplots()\n",
    "\n",
    "x = np.arange(len(agg_df))  # X-axis values\n",
    "y1 = agg_df['Mean Total Bill']  # Values for the first bar chart\n",
    "y2 = agg_df['Mean Tip']  # Values for the second bar chart\n",
    "y3 = agg_df['Mean Size']  # Values for the third bar chart\n",
    "\n",
    "ax.bar(x - 0.2, y1, width=0.2, color='red', align='center')\n",
    "ax.bar(x, y2, width=0.2, color='green', align='center')\n",
    "ax.bar(x + 0.2, y3, width=0.2, color='blue', align='center')\n",
    "\n",
    "ax.set_xticks(x)\n",
    "ax.set_xticklabels(['A', 'B', 'C', 'D'])\n",
    "ax.set_xlabel('Categories')\n",
    "ax.set_ylabel('Values')\n",
    "ax.set_title('Bar Chart Example')\n",
    "\n",
    "ax.legend(['Mean Total Bill', 'Mean Tip', 'Mean Size'])\n",
    "\n",
    "plt.show()\n"
   ]
  },
  {
   "cell_type": "markdown",
   "id": "ce9f29fd",
   "metadata": {},
   "source": [
    "### Now lets created it on excel"
   ]
  },
  {
   "cell_type": "code",
   "execution_count": 8,
   "id": "5ca92c08",
   "metadata": {},
   "outputs": [],
   "source": [
    "def init_excel_sheet(sheet):\n",
    "    \"\"\" Init the excel reader object \"\"\" \n",
    "    wk = xw.books.open('test.xlsx')\n",
    "    wb = xw.Book.caller()\n",
    "    return wb.sheets(sheet)"
   ]
  },
  {
   "cell_type": "code",
   "execution_count": 9,
   "id": "1faa0608",
   "metadata": {},
   "outputs": [],
   "source": [
    "def read_df(sheet):\n",
    "    \"\"\" Get the df from excel file\"\"\"\n",
    "    df = sheet.range(\"A1\").options(pd.DataFrame, index=False, expand='table').value\n",
    "    return df\n",
    "    "
   ]
  },
  {
   "cell_type": "code",
   "execution_count": 10,
   "id": "52b3b226",
   "metadata": {},
   "outputs": [],
   "source": [
    "def write_df_with_style(df, sheet):\n",
    "    \"\"\" Write the aggregated df to excel Add style as well \"\"\"\n",
    "    headers = ['j1','K1','L1','M1','N1']\n",
    "    sheet[\"I1\"].value = df\n",
    "    for header in headers:\n",
    "        sheet[header].font.bold = True\n",
    "        sheet[header].api.HorizontalAlignment = xl_const.HAlign.xlHAlignCenter\n",
    "        sheet[header].api.VerticalAlignment = xl_const.VAlign.xlVAlignCenter\n",
    "    \n",
    "    range_with_borders = sheet.range(\"I1:N5\")\n",
    "    # Access the underlying Excel Range object using the .api property\n",
    "    excel_range = range_with_borders.api\n",
    "\n",
    "    # Apply table borders using Excel's API\n",
    "    excel_range.Borders(7).LineStyle = 1\n",
    "    excel_range.Borders(7).Weight = 2\n",
    "    excel_range.Borders(8).LineStyle = 1\n",
    "    excel_range.Borders(8).Weight = 2\n",
    "    excel_range.Borders(9).LineStyle =1\n",
    "    excel_range.Borders(9).Weight = 2\n",
    "    excel_range.Borders(10).LineStyle = 1\n",
    "    excel_range.Borders(10).Weight = 2\n",
    "    "
   ]
  },
  {
   "cell_type": "code",
   "execution_count": 11,
   "id": "6e8bf57b",
   "metadata": {},
   "outputs": [],
   "source": [
    "def bar_chart(df, cell, sheet):\n",
    "        \"\"\"\n",
    "        Plot a Bar Graph for selected columns.\n",
    "        place: position of the chart\n",
    "        \"\"\"\n",
    "        fig, ax = plt.subplots()\n",
    "\n",
    "        x = np.arange(len(df))  # X-axis values\n",
    "        y1 = df['Mean Total Bill']  # Values for the first bar chart\n",
    "        y2 = df['Mean Tip']  # Values for the second bar chart\n",
    "        y3 = df['Mean Size']  # Values for the third bar chart\n",
    "\n",
    "        ax.bar(x - 0.2, y1, width=0.2, color='red', align='center')\n",
    "        ax.bar(x, y2, width=0.2, color='green', align='center')\n",
    "        ax.bar(x + 0.2, y3, width=0.2, color='blue', align='center')\n",
    "\n",
    "        ax.set_xticks(x)\n",
    "        ax.set_xticklabels(['0', '1', '2', '3'])\n",
    "        ax.set_xlabel('Categories')\n",
    "        ax.set_ylabel('Values')\n",
    "        ax.set_title('Bar Chart Example')\n",
    "\n",
    "        ax.legend(['Mean Total Bill', 'Mean Tip', 'Mean Size'])\n",
    "        plt.title(f\" Mean Total Bill, Mean Tip, Mean Size \\n groupby sex and smoker and aggregated with mean\\n\")\n",
    "        insert_picture_to_excel(sht=sheet, cell=cell, fig=fig, pic_name=\"Agrregation and group by example\")"
   ]
  },
  {
   "cell_type": "code",
   "execution_count": 12,
   "id": "6a6702b5",
   "metadata": {},
   "outputs": [],
   "source": [
    "def insert_picture_to_excel(sht, cell, fig, pic_name):\n",
    "    \"\"\" Insert the chart into the worksheet\"\"\"\n",
    "    for picture in sht.pictures:\n",
    "        if picture.name == pic_name:\n",
    "            picture.delete()\n",
    "    sht.pictures.add(\n",
    "        fig,\n",
    "        name=pic_name,\n",
    "        update=True,\n",
    "        left=sht.range(cell).left,\n",
    "        top=sht.range(cell).top,\n",
    "        height=250,\n",
    "        width=400,\n",
    "    )\n",
    "    return None"
   ]
  },
  {
   "cell_type": "code",
   "execution_count": 13,
   "id": "5ac9ffdc",
   "metadata": {},
   "outputs": [],
   "source": [
    "def main():\n",
    "    # Init the excel sheet\n",
    "    sheet = init_excel_sheet('Sheet1')\n",
    "    \n",
    "    # Get initial df\n",
    "    excel_df = read_df(sheet)\n",
    "    \n",
    "    # Run the aggregated function\n",
    "    df_grouped_agg = aggregate_df(excel_df)\n",
    "    \n",
    "    # Write deata to excel\n",
    "    write_df_with_style(df_grouped_agg, sheet)\n",
    "    \n",
    "    # Plot the chart\n",
    "    bar_chart(df_grouped_agg, \"I9\", sheet)"
   ]
  },
  {
   "cell_type": "code",
   "execution_count": 20,
   "id": "06a5d334",
   "metadata": {},
   "outputs": [],
   "source": [
    "if __name__ == '__main__':\n",
    "    xw.Book(\"test.xlsx\").set_mock_caller()\n",
    "    main()"
   ]
  },
  {
   "cell_type": "code",
   "execution_count": null,
   "id": "caf598db",
   "metadata": {},
   "outputs": [],
   "source": []
  },
  {
   "cell_type": "code",
   "execution_count": null,
   "id": "99d1fbf4",
   "metadata": {},
   "outputs": [],
   "source": []
  }
 ],
 "metadata": {
  "kernelspec": {
   "display_name": "Python 3 (ipykernel)",
   "language": "python",
   "name": "python3"
  },
  "language_info": {
   "codemirror_mode": {
    "name": "ipython",
    "version": 3
   },
   "file_extension": ".py",
   "mimetype": "text/x-python",
   "name": "python",
   "nbconvert_exporter": "python",
   "pygments_lexer": "ipython3",
   "version": "3.8.8"
  }
 },
 "nbformat": 4,
 "nbformat_minor": 5
}
